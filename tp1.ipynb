{
 "cells": [
  {
   "cell_type": "code",
   "metadata": {
    "ExecuteTime": {
     "end_time": "2024-10-30T08:54:50.428525Z",
     "start_time": "2024-10-30T08:54:50.391344Z"
    }
   },
   "source": [
    "import learn\n",
    "import pandas as pd\n",
    "\n",
    "\n",
    "\n",
    "index_list=['Company A','Company B','Company C','Company D','Company E','Company F']\n",
    "company_dir = {'Closing price': pd.Series([346.15,0.59,459,0.52,589.8,158.88],\n",
    "index=index_list),\n",
    "'EPS': pd.Series([1133.43,36.05,145.02, 4.5, 31.44,380.64],\n",
    "index=index_list),\n",
    "'Beta': pd.Series([1,2,3,4,5,6],index=index_list),\n",
    "'P/E': pd.Series([10,20,30,40,60,50], index=index_list),\n",
    "'Market Cap(B)': pd.Series([1254.05, 43.2, 2300, 5.6, 773.8, 521.56], index=index_list)\n",
    "}"
   ],
   "outputs": [],
   "execution_count": 2
  },
  {
   "cell_type": "code",
   "execution_count": 7,
   "metadata": {
    "ExecuteTime": {
     "end_time": "2024-10-23T11:05:41.462822Z",
     "start_time": "2024-10-23T11:05:41.360353Z"
    }
   },
   "outputs": [
    {
     "data": {
      "text/html": [
       "<div>\n",
       "<style scoped>\n",
       "    .dataframe tbody tr th:only-of-type {\n",
       "        vertical-align: middle;\n",
       "    }\n",
       "\n",
       "    .dataframe tbody tr th {\n",
       "        vertical-align: top;\n",
       "    }\n",
       "\n",
       "    .dataframe thead th {\n",
       "        text-align: right;\n",
       "    }\n",
       "</style>\n",
       "<table border=\"1\" class=\"dataframe\">\n",
       "  <thead>\n",
       "    <tr style=\"text-align: right;\">\n",
       "      <th></th>\n",
       "      <th>Closing price</th>\n",
       "      <th>EPS</th>\n",
       "      <th>Beta</th>\n",
       "      <th>P/E</th>\n",
       "      <th>Market Cap(B)</th>\n",
       "    </tr>\n",
       "  </thead>\n",
       "  <tbody>\n",
       "    <tr>\n",
       "      <th>Company A</th>\n",
       "      <td>346.15</td>\n",
       "      <td>1133.43</td>\n",
       "      <td>1</td>\n",
       "      <td>10</td>\n",
       "      <td>1254.05</td>\n",
       "    </tr>\n",
       "    <tr>\n",
       "      <th>Company B</th>\n",
       "      <td>0.59</td>\n",
       "      <td>36.05</td>\n",
       "      <td>2</td>\n",
       "      <td>20</td>\n",
       "      <td>43.20</td>\n",
       "    </tr>\n",
       "    <tr>\n",
       "      <th>Company C</th>\n",
       "      <td>459.00</td>\n",
       "      <td>145.02</td>\n",
       "      <td>3</td>\n",
       "      <td>30</td>\n",
       "      <td>2300.00</td>\n",
       "    </tr>\n",
       "    <tr>\n",
       "      <th>Company D</th>\n",
       "      <td>0.52</td>\n",
       "      <td>4.50</td>\n",
       "      <td>4</td>\n",
       "      <td>40</td>\n",
       "      <td>5.60</td>\n",
       "    </tr>\n",
       "    <tr>\n",
       "      <th>Company E</th>\n",
       "      <td>589.80</td>\n",
       "      <td>31.44</td>\n",
       "      <td>5</td>\n",
       "      <td>60</td>\n",
       "      <td>773.80</td>\n",
       "    </tr>\n",
       "    <tr>\n",
       "      <th>Company F</th>\n",
       "      <td>158.88</td>\n",
       "      <td>380.64</td>\n",
       "      <td>6</td>\n",
       "      <td>50</td>\n",
       "      <td>521.56</td>\n",
       "    </tr>\n",
       "  </tbody>\n",
       "</table>\n",
       "</div>"
      ],
      "text/plain": [
       "           Closing price      EPS  Beta  P/E  Market Cap(B)\n",
       "Company A         346.15  1133.43     1   10        1254.05\n",
       "Company B           0.59    36.05     2   20          43.20\n",
       "Company C         459.00   145.02     3   30        2300.00\n",
       "Company D           0.52     4.50     4   40           5.60\n",
       "Company E         589.80    31.44     5   60         773.80\n",
       "Company F         158.88   380.64     6   50         521.56"
      ]
     },
     "execution_count": 7,
     "metadata": {},
     "output_type": "execute_result"
    }
   ],
   "source": [
    "company_df= pd.DataFrame(company_dir)\n",
    "company_df"
   ]
  },
  {
   "cell_type": "markdown",
   "metadata": {},
   "source": []
  },
  {
   "cell_type": "code",
   "execution_count": 8,
   "metadata": {
    "ExecuteTime": {
     "end_time": "2024-10-23T11:07:39.049327Z",
     "start_time": "2024-10-23T11:07:39.004084Z"
    }
   },
   "outputs": [
    {
     "data": {
      "text/html": [
       "<div>\n",
       "<style scoped>\n",
       "    .dataframe tbody tr th:only-of-type {\n",
       "        vertical-align: middle;\n",
       "    }\n",
       "\n",
       "    .dataframe tbody tr th {\n",
       "        vertical-align: top;\n",
       "    }\n",
       "\n",
       "    .dataframe thead th {\n",
       "        text-align: right;\n",
       "    }\n",
       "</style>\n",
       "<table border=\"1\" class=\"dataframe\">\n",
       "  <thead>\n",
       "    <tr style=\"text-align: right;\">\n",
       "      <th></th>\n",
       "      <th>Closing price</th>\n",
       "      <th>EPS</th>\n",
       "      <th>Beta</th>\n",
       "      <th>P/E</th>\n",
       "      <th>Market Cap(B)</th>\n",
       "    </tr>\n",
       "  </thead>\n",
       "  <tbody>\n",
       "    <tr>\n",
       "      <th>Company A</th>\n",
       "      <td>346.15</td>\n",
       "      <td>1133.43</td>\n",
       "      <td>1</td>\n",
       "      <td>10</td>\n",
       "      <td>1254.05</td>\n",
       "    </tr>\n",
       "    <tr>\n",
       "      <th>Company B</th>\n",
       "      <td>0.59</td>\n",
       "      <td>36.05</td>\n",
       "      <td>2</td>\n",
       "      <td>20</td>\n",
       "      <td>43.20</td>\n",
       "    </tr>\n",
       "    <tr>\n",
       "      <th>Company C</th>\n",
       "      <td>459.00</td>\n",
       "      <td>145.02</td>\n",
       "      <td>3</td>\n",
       "      <td>30</td>\n",
       "      <td>2300.00</td>\n",
       "    </tr>\n",
       "    <tr>\n",
       "      <th>Company D</th>\n",
       "      <td>0.52</td>\n",
       "      <td>4.50</td>\n",
       "      <td>4</td>\n",
       "      <td>40</td>\n",
       "      <td>5.60</td>\n",
       "    </tr>\n",
       "  </tbody>\n",
       "</table>\n",
       "</div>"
      ],
      "text/plain": [
       "           Closing price      EPS  Beta  P/E  Market Cap(B)\n",
       "Company A         346.15  1133.43     1   10        1254.05\n",
       "Company B           0.59    36.05     2   20          43.20\n",
       "Company C         459.00   145.02     3   30        2300.00\n",
       "Company D           0.52     4.50     4   40           5.60"
      ]
     },
     "execution_count": 8,
     "metadata": {},
     "output_type": "execute_result"
    }
   ],
   "source": [
    "company_df.iloc[0:4]"
   ]
  },
  {
   "cell_type": "code",
   "execution_count": 9,
   "metadata": {
    "ExecuteTime": {
     "end_time": "2024-10-23T11:08:17.831292Z",
     "start_time": "2024-10-23T11:08:17.808777Z"
    }
   },
   "outputs": [
    {
     "data": {
      "text/html": [
       "<div>\n",
       "<style scoped>\n",
       "    .dataframe tbody tr th:only-of-type {\n",
       "        vertical-align: middle;\n",
       "    }\n",
       "\n",
       "    .dataframe tbody tr th {\n",
       "        vertical-align: top;\n",
       "    }\n",
       "\n",
       "    .dataframe thead th {\n",
       "        text-align: right;\n",
       "    }\n",
       "</style>\n",
       "<table border=\"1\" class=\"dataframe\">\n",
       "  <thead>\n",
       "    <tr style=\"text-align: right;\">\n",
       "      <th></th>\n",
       "      <th>Closing price</th>\n",
       "      <th>EPS</th>\n",
       "      <th>Beta</th>\n",
       "      <th>P/E</th>\n",
       "      <th>Market Cap(B)</th>\n",
       "    </tr>\n",
       "  </thead>\n",
       "  <tbody>\n",
       "    <tr>\n",
       "      <th>Company D</th>\n",
       "      <td>0.52</td>\n",
       "      <td>4.50</td>\n",
       "      <td>4</td>\n",
       "      <td>40</td>\n",
       "      <td>5.60</td>\n",
       "    </tr>\n",
       "    <tr>\n",
       "      <th>Company E</th>\n",
       "      <td>589.80</td>\n",
       "      <td>31.44</td>\n",
       "      <td>5</td>\n",
       "      <td>60</td>\n",
       "      <td>773.80</td>\n",
       "    </tr>\n",
       "    <tr>\n",
       "      <th>Company F</th>\n",
       "      <td>158.88</td>\n",
       "      <td>380.64</td>\n",
       "      <td>6</td>\n",
       "      <td>50</td>\n",
       "      <td>521.56</td>\n",
       "    </tr>\n",
       "  </tbody>\n",
       "</table>\n",
       "</div>"
      ],
      "text/plain": [
       "           Closing price     EPS  Beta  P/E  Market Cap(B)\n",
       "Company D           0.52    4.50     4   40           5.60\n",
       "Company E         589.80   31.44     5   60         773.80\n",
       "Company F         158.88  380.64     6   50         521.56"
      ]
     },
     "execution_count": 9,
     "metadata": {},
     "output_type": "execute_result"
    }
   ],
   "source": [
    "company_df[-3:]"
   ]
  },
  {
   "cell_type": "code",
   "execution_count": 13,
   "metadata": {
    "ExecuteTime": {
     "end_time": "2024-10-23T11:11:08.373368Z",
     "start_time": "2024-10-23T11:11:08.361560Z"
    }
   },
   "outputs": [
    {
     "data": {
      "text/plain": [
       "Company A    1133.43\n",
       "Company B      36.05\n",
       "Company C     145.02\n",
       "Company D       4.50\n",
       "Company E      31.44\n",
       "Company F     380.64\n",
       "Name: EPS, dtype: float64"
      ]
     },
     "execution_count": 13,
     "metadata": {},
     "output_type": "execute_result"
    }
   ],
   "source": [
    "company_df.loc[:]['EPS']"
   ]
  },
  {
   "cell_type": "code",
   "execution_count": 14,
   "metadata": {
    "ExecuteTime": {
     "end_time": "2024-10-23T11:12:11.045860Z",
     "start_time": "2024-10-23T11:12:10.982214Z"
    }
   },
   "outputs": [
    {
     "data": {
      "text/html": [
       "<div>\n",
       "<style scoped>\n",
       "    .dataframe tbody tr th:only-of-type {\n",
       "        vertical-align: middle;\n",
       "    }\n",
       "\n",
       "    .dataframe tbody tr th {\n",
       "        vertical-align: top;\n",
       "    }\n",
       "\n",
       "    .dataframe thead th {\n",
       "        text-align: right;\n",
       "    }\n",
       "</style>\n",
       "<table border=\"1\" class=\"dataframe\">\n",
       "  <thead>\n",
       "    <tr style=\"text-align: right;\">\n",
       "      <th></th>\n",
       "      <th>EPS</th>\n",
       "      <th>Beta</th>\n",
       "    </tr>\n",
       "  </thead>\n",
       "  <tbody>\n",
       "    <tr>\n",
       "      <th>Company B</th>\n",
       "      <td>36.05</td>\n",
       "      <td>2</td>\n",
       "    </tr>\n",
       "    <tr>\n",
       "      <th>Company C</th>\n",
       "      <td>145.02</td>\n",
       "      <td>3</td>\n",
       "    </tr>\n",
       "    <tr>\n",
       "      <th>Company D</th>\n",
       "      <td>4.50</td>\n",
       "      <td>4</td>\n",
       "    </tr>\n",
       "  </tbody>\n",
       "</table>\n",
       "</div>"
      ],
      "text/plain": [
       "              EPS  Beta\n",
       "Company B   36.05     2\n",
       "Company C  145.02     3\n",
       "Company D    4.50     4"
      ]
     },
     "execution_count": 14,
     "metadata": {},
     "output_type": "execute_result"
    }
   ],
   "source": [
    "company_df.loc['Company B': 'Company D'][['EPS', 'Beta']]"
   ]
  },
  {
   "cell_type": "code",
   "execution_count": 18,
   "metadata": {
    "ExecuteTime": {
     "end_time": "2024-10-23T11:15:42.756567Z",
     "start_time": "2024-10-23T11:15:42.662800Z"
    }
   },
   "outputs": [
    {
     "data": {
      "text/html": [
       "<div>\n",
       "<style scoped>\n",
       "    .dataframe tbody tr th:only-of-type {\n",
       "        vertical-align: middle;\n",
       "    }\n",
       "\n",
       "    .dataframe tbody tr th {\n",
       "        vertical-align: top;\n",
       "    }\n",
       "\n",
       "    .dataframe thead th {\n",
       "        text-align: right;\n",
       "    }\n",
       "</style>\n",
       "<table border=\"1\" class=\"dataframe\">\n",
       "  <thead>\n",
       "    <tr style=\"text-align: right;\">\n",
       "      <th></th>\n",
       "      <th>Closing price</th>\n",
       "      <th>EPS</th>\n",
       "    </tr>\n",
       "  </thead>\n",
       "  <tbody>\n",
       "    <tr>\n",
       "      <th>Company A</th>\n",
       "      <td>346.15</td>\n",
       "      <td>1133.43</td>\n",
       "    </tr>\n",
       "    <tr>\n",
       "      <th>Company B</th>\n",
       "      <td>0.59</td>\n",
       "      <td>36.05</td>\n",
       "    </tr>\n",
       "  </tbody>\n",
       "</table>\n",
       "</div>"
      ],
      "text/plain": [
       "           Closing price      EPS\n",
       "Company A         346.15  1133.43\n",
       "Company B           0.59    36.05"
      ]
     },
     "execution_count": 18,
     "metadata": {},
     "output_type": "execute_result"
    }
   ],
   "source": [
    "company_df.iloc[0:2, 0:2]"
   ]
  },
  {
   "cell_type": "code",
   "execution_count": 19,
   "metadata": {
    "ExecuteTime": {
     "end_time": "2024-10-23T11:17:14.349963Z",
     "start_time": "2024-10-23T11:17:14.310272Z"
    }
   },
   "outputs": [
    {
     "data": {
      "text/html": [
       "<div>\n",
       "<style scoped>\n",
       "    .dataframe tbody tr th:only-of-type {\n",
       "        vertical-align: middle;\n",
       "    }\n",
       "\n",
       "    .dataframe tbody tr th {\n",
       "        vertical-align: top;\n",
       "    }\n",
       "\n",
       "    .dataframe thead th {\n",
       "        text-align: right;\n",
       "    }\n",
       "</style>\n",
       "<table border=\"1\" class=\"dataframe\">\n",
       "  <thead>\n",
       "    <tr style=\"text-align: right;\">\n",
       "      <th></th>\n",
       "      <th>EPS</th>\n",
       "      <th>P/E</th>\n",
       "      <th>Market Cap(B)</th>\n",
       "    </tr>\n",
       "  </thead>\n",
       "  <tbody>\n",
       "    <tr>\n",
       "      <th>Company A</th>\n",
       "      <td>1133.43</td>\n",
       "      <td>10</td>\n",
       "      <td>1254.05</td>\n",
       "    </tr>\n",
       "    <tr>\n",
       "      <th>Company B</th>\n",
       "      <td>36.05</td>\n",
       "      <td>20</td>\n",
       "      <td>43.20</td>\n",
       "    </tr>\n",
       "    <tr>\n",
       "      <th>Company C</th>\n",
       "      <td>145.02</td>\n",
       "      <td>30</td>\n",
       "      <td>2300.00</td>\n",
       "    </tr>\n",
       "    <tr>\n",
       "      <th>Company D</th>\n",
       "      <td>4.50</td>\n",
       "      <td>40</td>\n",
       "      <td>5.60</td>\n",
       "    </tr>\n",
       "    <tr>\n",
       "      <th>Company E</th>\n",
       "      <td>31.44</td>\n",
       "      <td>60</td>\n",
       "      <td>773.80</td>\n",
       "    </tr>\n",
       "    <tr>\n",
       "      <th>Company F</th>\n",
       "      <td>380.64</td>\n",
       "      <td>50</td>\n",
       "      <td>521.56</td>\n",
       "    </tr>\n",
       "  </tbody>\n",
       "</table>\n",
       "</div>"
      ],
      "text/plain": [
       "               EPS  P/E  Market Cap(B)\n",
       "Company A  1133.43   10        1254.05\n",
       "Company B    36.05   20          43.20\n",
       "Company C   145.02   30        2300.00\n",
       "Company D     4.50   40           5.60\n",
       "Company E    31.44   60         773.80\n",
       "Company F   380.64   50         521.56"
      ]
     },
     "execution_count": 19,
     "metadata": {},
     "output_type": "execute_result"
    }
   ],
   "source": [
    "company_df.iloc[:, [1,3,4]]"
   ]
  },
  {
   "cell_type": "code",
   "execution_count": 20,
   "metadata": {
    "ExecuteTime": {
     "end_time": "2024-10-23T11:18:17.513676Z",
     "start_time": "2024-10-23T11:18:17.348516Z"
    }
   },
   "outputs": [],
   "source": [
    "company_df.to_csv('ex1-tp.csv')"
   ]
  },
  {
   "cell_type": "code",
   "execution_count": null,
   "metadata": {},
   "outputs": [],
   "source": []
  }
 ],
 "metadata": {
  "kernelspec": {
   "display_name": "Python 3",
   "language": "python",
   "name": "python3"
  },
  "language_info": {
   "codemirror_mode": {
    "name": "ipython",
    "version": 3
   },
   "file_extension": ".py",
   "mimetype": "text/x-python",
   "name": "python",
   "nbconvert_exporter": "python",
   "pygments_lexer": "ipython3",
   "version": "3.12.1"
  }
 },
 "nbformat": 4,
 "nbformat_minor": 2
}
