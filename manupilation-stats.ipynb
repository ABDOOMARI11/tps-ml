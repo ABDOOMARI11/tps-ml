{
 "cells": [
  {
   "cell_type": "code",
   "metadata": {
    "ExecuteTime": {
     "end_time": "2024-11-12T08:46:46.813482Z",
     "start_time": "2024-11-12T08:46:46.804207Z"
    }
   },
   "source": [
    "import pandas as pan\n",
    "\n",
    "valeurs = [21,19,20,15,28,12,20,25,10,19,21,20,14,24,11,18,22,19,17,21,13,23,22,16,23,18,27,18,9,30]\n",
    "print(valeurs)\n",
    "\n",
    "serie = pan.Series(valeurs)\n",
    "print(serie)\n"
   ],
   "outputs": [
    {
     "name": "stdout",
     "output_type": "stream",
     "text": [
      "[21, 19, 20, 15, 28, 12, 20, 25, 10, 19, 21, 20, 14, 24, 11, 18, 22, 19, 17, 21, 13, 23, 22, 16, 23, 18, 27, 18, 9, 30]\n",
      "0     21\n",
      "1     19\n",
      "2     20\n",
      "3     15\n",
      "4     28\n",
      "5     12\n",
      "6     20\n",
      "7     25\n",
      "8     10\n",
      "9     19\n",
      "10    21\n",
      "11    20\n",
      "12    14\n",
      "13    24\n",
      "14    11\n",
      "15    18\n",
      "16    22\n",
      "17    19\n",
      "18    17\n",
      "19    21\n",
      "20    13\n",
      "21    23\n",
      "22    22\n",
      "23    16\n",
      "24    23\n",
      "25    18\n",
      "26    27\n",
      "27    18\n",
      "28     9\n",
      "29    30\n",
      "dtype: int64\n"
     ]
    }
   ],
   "execution_count": 6
  },
  {
   "metadata": {},
   "cell_type": "code",
   "outputs": [],
   "execution_count": null,
   "source": ""
  },
  {
   "cell_type": "code",
   "metadata": {
    "ExecuteTime": {
     "end_time": "2024-11-12T08:43:31.622725Z",
     "start_time": "2024-11-12T08:43:31.615335Z"
    }
   },
   "source": [
    "import statistics\n",
    "print(\"Moyenne :\", statistics.mean(serie))\n",
    "print(\"Médiane :\", statistics.median(serie))\n",
    "print(\"Mode :\", statistics.mode(serie))\n",
    "print(\"Écart-type :\", statistics.stdev(serie))\n",
    "print(\"Variance :\", statistics.variance(serie))\n",
    "print(\"Tous les modes :\", statistics.multimode(serie))"
   ],
   "outputs": [
    {
     "name": "stdout",
     "output_type": "stream",
     "text": [
      "Moyenne : 19.166666666666668\n",
      "Médiane : 19.5\n",
      "Mode : 21\n",
      "Écart-type : 5.180090089306685\n",
      "Variance : 26.833333333333332\n",
      "Tous les modes : [21, 19, 20, 18]\n"
     ]
    }
   ],
   "execution_count": 5
  },
  {
   "metadata": {
    "ExecuteTime": {
     "end_time": "2024-11-12T08:56:13.377416Z",
     "start_time": "2024-11-12T08:56:13.369756Z"
    }
   },
   "cell_type": "code",
   "source": [
    "# exercice 2\n",
    "\n",
    "monDictionnaine =[{\n",
    "    \"nom\": \"elaoumari\",\n",
    "    \"prenom\": \"abdelmoughith\",\n",
    "    \"age\" : 22    },\n",
    "    {\n",
    "    \"nom\": \"lemkharbech\",\n",
    "    \"prenom\": \"yahya\",\n",
    "    \"age\" : 22   \n",
    "    },\n",
    "    {\n",
    "    \"nom\": \"moudnib\",\n",
    "    \"prenom\": \"anas\",\n",
    "    \"age\" : 22 \n",
    "    }\n",
    "]\n",
    "\n",
    "print('les etudiants',monDictionnaine)"
   ],
   "outputs": [
    {
     "name": "stdout",
     "output_type": "stream",
     "text": [
      "[{'nom': 'elaoumari', 'prenom': 'abdelmoughith', 'age': 22}, {'nom': 'lemkharbech', 'prenom': 'yahya', 'age': 22}, {'nom': 'moudnib', 'prenom': 'anas', 'age': 22}]\n"
     ]
    }
   ],
   "execution_count": 9
  },
  {
   "metadata": {
    "ExecuteTime": {
     "end_time": "2024-11-12T10:41:47.234897Z",
     "start_time": "2024-11-12T10:41:47.231072Z"
    }
   },
   "cell_type": "code",
   "source": "",
   "outputs": [],
   "execution_count": null
  },
  {
   "metadata": {
    "ExecuteTime": {
     "end_time": "2024-11-12T10:41:49.277258Z",
     "start_time": "2024-11-12T10:41:49.264641Z"
    }
   },
   "cell_type": "code",
   "source": [
    "for personne in monDictionnaine:\n",
    "    print(personne.values())"
   ],
   "outputs": [
    {
     "name": "stdout",
     "output_type": "stream",
     "text": [
      "dict_values(['elaoumari', 'abdelmoughith', 22])\n",
      "dict_values(['lemkharbech', 'yahya', 22])\n",
      "dict_values(['moudnib', 'anas', 22])\n"
     ]
    }
   ],
   "execution_count": 33
  },
  {
   "metadata": {
    "ExecuteTime": {
     "end_time": "2024-11-12T10:41:52.980767Z",
     "start_time": "2024-11-12T10:41:52.975884Z"
    }
   },
   "cell_type": "code",
   "source": [
    "for personne in monDictionnaine:\n",
    " print(\"les cles du disctionnaire\",personne.keys())"
   ],
   "outputs": [
    {
     "name": "stdout",
     "output_type": "stream",
     "text": [
      "les cles du disctionnaire dict_keys(['nom', 'prenom', 'age'])\n",
      "les cles du disctionnaire dict_keys(['nom', 'prenom', 'age'])\n",
      "les cles du disctionnaire dict_keys(['nom', 'prenom', 'age'])\n"
     ]
    }
   ],
   "execution_count": 34
  },
  {
   "metadata": {
    "ExecuteTime": {
     "end_time": "2024-11-12T10:41:56.432937Z",
     "start_time": "2024-11-12T10:41:56.424702Z"
    }
   },
   "cell_type": "code",
   "source": "print(monDictionnaine[1]['prenom'])",
   "outputs": [
    {
     "name": "stdout",
     "output_type": "stream",
     "text": [
      "yahya\n"
     ]
    }
   ],
   "execution_count": 35
  },
  {
   "metadata": {
    "ExecuteTime": {
     "end_time": "2024-11-12T09:10:45.986020Z",
     "start_time": "2024-11-12T09:10:45.978062Z"
    }
   },
   "cell_type": "code",
   "source": [
    "# exercice 3 \n",
    "personnes = {\n",
    "    \"personne1\": {\"nom\": \"elaoumari\", \"age\": 22, \"ville\": \"Marrakech\"},\n",
    "    \"personne2\": {\"nom\": \"lemkharbech\", \"age\": 22, \"ville\": \"Casablanca\"},\n",
    "    \"personne3\": {\"nom\": \"moudnib\", \"age\": 22, \"ville\": \"Rabat\"}\n",
    "}\n",
    "personnes.update({\n",
    "    \"personne4\": {\"nom\": \"hnioua\", \"age\": 30, \"ville\": \"Fès\"}\n",
    "})"
   ],
   "outputs": [],
   "execution_count": 25
  },
  {
   "metadata": {
    "ExecuteTime": {
     "end_time": "2024-11-12T09:10:48.750278Z",
     "start_time": "2024-11-12T09:10:48.743493Z"
    }
   },
   "cell_type": "code",
   "source": "personnes\n",
   "outputs": [
    {
     "data": {
      "text/plain": [
       "{'personne1': {'nom': 'elaoumari', 'age': 22, 'ville': 'Marrakech'},\n",
       " 'personne2': {'nom': 'lemkharbech', 'age': 22, 'ville': 'Casablanca'},\n",
       " 'personne3': {'nom': 'moudnib', 'age': 22, 'ville': 'Rabat'},\n",
       " 'personne4': {'nom': 'hnioua', 'age': 30, 'ville': 'Fès'}}"
      ]
     },
     "execution_count": 26,
     "metadata": {},
     "output_type": "execute_result"
    }
   ],
   "execution_count": 26
  },
  {
   "metadata": {
    "ExecuteTime": {
     "end_time": "2024-11-12T09:10:51.496937Z",
     "start_time": "2024-11-12T09:10:51.492370Z"
    }
   },
   "cell_type": "code",
   "source": [
    "for key, info in personnes.items():\n",
    "    print(f\"{key}: Nom: {info['nom']}, Âge: {info['age']}, Ville: {info['ville']}\")"
   ],
   "outputs": [
    {
     "name": "stdout",
     "output_type": "stream",
     "text": [
      "personne1: Nom: elaoumari, Âge: 22, Ville: Marrakech\n",
      "personne2: Nom: lemkharbech, Âge: 22, Ville: Casablanca\n",
      "personne3: Nom: moudnib, Âge: 22, Ville: Rabat\n",
      "personne4: Nom: hnioua, Âge: 30, Ville: Fès\n"
     ]
    }
   ],
   "execution_count": 27
  },
  {
   "metadata": {
    "ExecuteTime": {
     "end_time": "2024-11-12T09:10:54.038799Z",
     "start_time": "2024-11-12T09:10:54.033380Z"
    }
   },
   "cell_type": "code",
   "source": [
    "villes = [info[\"ville\"] for info in personnes.values()]\n",
    "for ville in villes:\n",
    "    print(\"Ville d'origine:\", ville)"
   ],
   "outputs": [
    {
     "name": "stdout",
     "output_type": "stream",
     "text": [
      "Ville d'origine: Marrakech\n",
      "Ville d'origine: Casablanca\n",
      "Ville d'origine: Rabat\n",
      "Ville d'origine: Fès\n"
     ]
    }
   ],
   "execution_count": 28
  },
  {
   "metadata": {
    "ExecuteTime": {
     "end_time": "2024-11-12T09:10:58.741225Z",
     "start_time": "2024-11-12T09:10:58.734674Z"
    }
   },
   "cell_type": "code",
   "source": [
    "villes.sort()\n",
    "print(\"Villes triées:\", villes)"
   ],
   "outputs": [
    {
     "name": "stdout",
     "output_type": "stream",
     "text": [
      "Villes triées: ['Casablanca', 'Fès', 'Marrakech', 'Rabat']\n"
     ]
    }
   ],
   "execution_count": 29
  },
  {
   "metadata": {
    "ExecuteTime": {
     "end_time": "2024-11-12T09:11:02.484152Z",
     "start_time": "2024-11-12T09:11:02.476683Z"
    }
   },
   "cell_type": "code",
   "source": [
    "for ville in set(villes):\n",
    "    print(f\"La ville {ville} apparaît {villes.count(ville)} fois.\")"
   ],
   "outputs": [
    {
     "name": "stdout",
     "output_type": "stream",
     "text": [
      "La ville Marrakech apparaît 1 fois.\n",
      "La ville Casablanca apparaît 1 fois.\n",
      "La ville Rabat apparaît 1 fois.\n",
      "La ville Fès apparaît 1 fois.\n"
     ]
    }
   ],
   "execution_count": 30
  },
  {
   "metadata": {
    "ExecuteTime": {
     "end_time": "2024-11-12T09:11:04.492516Z",
     "start_time": "2024-11-12T09:11:04.487586Z"
    }
   },
   "cell_type": "code",
   "source": [
    "for key, info in personnes.items():\n",
    "    print(f\"{info['nom']} a {info['age']} ans.\")"
   ],
   "outputs": [
    {
     "name": "stdout",
     "output_type": "stream",
     "text": [
      "elaoumari a 22 ans.\n",
      "lemkharbech a 22 ans.\n",
      "moudnib a 22 ans.\n",
      "hnioua a 30 ans.\n"
     ]
    }
   ],
   "execution_count": 31
  },
  {
   "metadata": {
    "ExecuteTime": {
     "end_time": "2024-11-12T09:11:16.699950Z",
     "start_time": "2024-11-12T09:11:16.694236Z"
    }
   },
   "cell_type": "code",
   "source": [
    "personnes.pop(\"personne1\")\n",
    "print(\"Dictionnaire après suppression de la première personne:\", personnes)"
   ],
   "outputs": [
    {
     "name": "stdout",
     "output_type": "stream",
     "text": [
      "Dictionnaire après suppression de la première personne: {'personne2': {'nom': 'lemkharbech', 'age': 22, 'ville': 'Casablanca'}, 'personne3': {'nom': 'moudnib', 'age': 22, 'ville': 'Rabat'}, 'personne4': {'nom': 'hnioua', 'age': 30, 'ville': 'Fès'}}\n"
     ]
    }
   ],
   "execution_count": 32
  },
  {
   "metadata": {
    "ExecuteTime": {
     "end_time": "2024-11-12T10:49:10.568333Z",
     "start_time": "2024-11-12T10:49:09.887205Z"
    }
   },
   "cell_type": "code",
   "source": [
    "#exercice 5\n",
    "# Importation de la bibliothèque Pandas\n",
    "import pandas as pd\n",
    "\n",
    "# --------------------------------------------------------------\n",
    "# 1. Création d'un DataFrame à partir d'un dictionnaire\n",
    "# --------------------------------------------------------------\n",
    "# Définir un dictionnaire avec des données\n",
    "dict_data = {\n",
    "    'Nom': ['Alice', 'Bob', 'Charlie', 'David'],\n",
    "    'Email': ['alice@example.com', 'bob@example.com', 'charlie@example.com', 'david@example.com'],\n",
    "    'Section': ['A', 'B', 'C', 'A']\n",
    "}\n",
    "\n",
    "# Création du DataFrame à partir du dictionnaire\n",
    "df = pd.DataFrame(dict_data)\n",
    "\n",
    "# Affichage du DataFrame\n",
    "print(\"DataFrame créé à partir d'un dictionnaire :\")\n",
    "print(df)\n",
    "print(\"\\n\")\n",
    "\n",
    "# --------------------------------------------------------------\n",
    "# 2. Création d'un DataFrame à partir d'une liste\n",
    "# --------------------------------------------------------------\n",
    "# Définir une liste de langages\n",
    "languages = ['Python', 'Java', 'PHP', 'C++', 'Javascript']\n",
    "\n",
    "# Création du DataFrame à partir de la liste\n",
    "df_languages = pd.DataFrame(languages, columns=['Langage'])\n",
    "\n",
    "# Affichage du DataFrame\n",
    "print(\"DataFrame créé à partir d'une liste :\")\n",
    "print(df_languages)\n",
    "print(\"\\n\")\n",
    "\n",
    "# --------------------------------------------------------------\n",
    "# 3. Opérations sur les DataFrames\n",
    "# --------------------------------------------------------------\n",
    "# Exemple de DataFrame avec des labels d'index et de colonnes\n",
    "labels = ['L1', 'L2', 'L3', 'L4']\n",
    "data = [['Alice', 'alice@example.com', 'A'],\n",
    "        ['Bob', 'bob@example.com', 'B'],\n",
    "        ['Charlie', 'charlie@example.com', 'C'],\n",
    "        ['David', 'david@example.com', 'A']]\n",
    "\n",
    "# Création d'un DataFrame avec des index personnalisés et des colonnes spécifiées\n",
    "df_students = pd.DataFrame(data, index=labels, columns=['Name', 'Email', 'Section'])\n",
    "\n",
    "# Affichage du DataFrame\n",
    "print(\"DataFrame avec des index et des colonnes personnalisées :\")\n",
    "print(df_students)\n",
    "print(\"\\n\")\n",
    "\n",
    "# Sélectionner certaines colonnes\n",
    "print(\"Sélection des colonnes 'Name' et 'Section' :\")\n",
    "print(df_students[['Name', 'Section']])\n",
    "print(\"\\n\")\n",
    "\n",
    "# Ajouter une nouvelle colonne (par exemple, 'Age')\n",
    "df_students['Age'] = [20, 22, 23, 21]\n",
    "\n",
    "# Affichage après l'ajout de la colonne\n",
    "print(\"Ajout de la colonne 'Age' :\")\n",
    "print(df_students)\n",
    "print(\"\\n\")\n",
    "\n",
    "# Supprimer une colonne (par exemple, 'Email') avec 'del'\n",
    "del df_students['Email']\n",
    "print(\"Suppression de la colonne 'Email' :\")\n",
    "print(df_students)\n",
    "print(\"\\n\")\n",
    "\n",
    "# Ou avec 'pop'\n",
    "df_students.pop('Age')\n",
    "print(\"Suppression de la colonne 'Age' avec 'pop' :\")\n",
    "print(df_students)\n",
    "print(\"\\n\")\n",
    "\n",
    "# --------------------------------------------------------------\n",
    "# 4. Quelques méthodes utiles sur les DataFrames\n",
    "# --------------------------------------------------------------\n",
    "# Ajouter une nouvelle ligne avec la méthode append()\n",
    "new_student = pd.DataFrame([['Eve', 'eve@example.com', 'B']], columns=['Name', 'Email', 'Section'])\n",
    "df_students = df_students.append(new_student, ignore_index=True)\n",
    "print(\"Ajout d'une nouvelle ligne à la fin du DataFrame :\")\n",
    "print(df_students)\n",
    "print(\"\\n\")\n",
    "\n",
    "# Appliquer une fonction à chaque valeur d'une colonne avec apply()\n",
    "df_students['Section'] = df_students['Section'].apply(lambda x: x.upper())  # Mettre les sections en majuscules\n",
    "print(\"Application de la fonction 'upper' sur la colonne 'Section' :\")\n",
    "print(df_students)\n",
    "print(\"\\n\")\n",
    "\n",
    "# Calculer la moyenne (si on avait des données numériques)\n",
    "# Exemple avec un DataFrame ayant une colonne de scores (ajoutons une colonne 'Score')\n",
    "df_students['Score'] = [95, 88, 91, 85, 92]\n",
    "print(\"Calcul de la moyenne de la colonne 'Score' :\")\n",
    "print(df_students['Score'].mean())\n",
    "print(\"\\n\")\n",
    "\n",
    "# Décrire les données statistiques d'un DataFrame\n",
    "print(\"Statistiques descriptives sur les données numériques :\")\n",
    "print(df_students.describe())\n",
    "print(\"\\n\")\n",
    "\n",
    "# Trier les valeurs en fonction d'une colonne spécifique ('Score')\n",
    "print(\"Tri du DataFrame par la colonne 'Score' :\")\n",
    "print(df_students.sort_values(by='Score'))\n",
    "print(\"\\n\")\n",
    "\n",
    "# Filtrer les lignes selon une condition avec query()\n",
    "print(\"Filtrer les étudiants ayant un score supérieur à 90 :\")\n",
    "print(df_students.query('Score > 90'))\n",
    "print(\"\\n\")\n",
    "\n",
    "# Exporter le DataFrame vers un fichier Excel\n",
    "df_students.to_excel('students.xlsx', index=False)\n",
    "print(\"Le DataFrame a été exporté vers un fichier Excel.\")\n",
    "print(\"\\n\")\n",
    "\n",
    "# --------------------------------------------------------------\n",
    "# 5. Autres méthodes pratiques sur les DataFrames\n",
    "# --------------------------------------------------------------\n",
    "# Fusionner deux DataFrames (on crée un DataFrame supplémentaire)\n",
    "additional_data = pd.DataFrame({\n",
    "    'Name': ['Frank', 'Grace'],\n",
    "    'Email': ['frank@example.com', 'grace@example.com'],\n",
    "    'Section': ['A', 'C']\n",
    "})\n",
    "\n",
    "# Fusionner les DataFrames en utilisant la méthode merge()\n",
    "merged_df = pd.concat([df_students, additional_data], ignore_index=True)\n",
    "print(\"Fusion des DataFrames avec concat() :\")\n",
    "print(merged_df)\n",
    "print(\"\\n\")\n",
    "\n",
    "# Transposer le DataFrame (inverser les lignes et les colonnes)\n",
    "print(\"Transposition du DataFrame :\")\n",
    "print(df_students.transpose())\n",
    "print(\"\\n\")\n",
    "\n"
   ],
   "outputs": [
    {
     "name": "stdout",
     "output_type": "stream",
     "text": [
      "DataFrame créé à partir d'un dictionnaire :\n",
      "       Nom                Email Section\n",
      "0    Alice    alice@example.com       A\n",
      "1      Bob      bob@example.com       B\n",
      "2  Charlie  charlie@example.com       C\n",
      "3    David    david@example.com       A\n",
      "\n",
      "\n",
      "DataFrame créé à partir d'une liste :\n",
      "      Langage\n",
      "0      Python\n",
      "1        Java\n",
      "2         PHP\n",
      "3         C++\n",
      "4  Javascript\n",
      "\n",
      "\n",
      "DataFrame avec des index et des colonnes personnalisées :\n",
      "       Name                Email Section\n",
      "L1    Alice    alice@example.com       A\n",
      "L2      Bob      bob@example.com       B\n",
      "L3  Charlie  charlie@example.com       C\n",
      "L4    David    david@example.com       A\n",
      "\n",
      "\n",
      "Sélection des colonnes 'Name' et 'Section' :\n",
      "       Name Section\n",
      "L1    Alice       A\n",
      "L2      Bob       B\n",
      "L3  Charlie       C\n",
      "L4    David       A\n",
      "\n",
      "\n",
      "Ajout de la colonne 'Age' :\n",
      "       Name                Email Section  Age\n",
      "L1    Alice    alice@example.com       A   20\n",
      "L2      Bob      bob@example.com       B   22\n",
      "L3  Charlie  charlie@example.com       C   23\n",
      "L4    David    david@example.com       A   21\n",
      "\n",
      "\n",
      "Suppression de la colonne 'Email' :\n",
      "       Name Section  Age\n",
      "L1    Alice       A   20\n",
      "L2      Bob       B   22\n",
      "L3  Charlie       C   23\n",
      "L4    David       A   21\n",
      "\n",
      "\n",
      "Suppression de la colonne 'Age' avec 'pop' :\n",
      "       Name Section\n",
      "L1    Alice       A\n",
      "L2      Bob       B\n",
      "L3  Charlie       C\n",
      "L4    David       A\n",
      "\n",
      "\n"
     ]
    },
    {
     "ename": "AttributeError",
     "evalue": "'DataFrame' object has no attribute 'append'",
     "output_type": "error",
     "traceback": [
      "\u001B[1;31m---------------------------------------------------------------------------\u001B[0m",
      "\u001B[1;31mAttributeError\u001B[0m                            Traceback (most recent call last)",
      "\u001B[1;32m~\\AppData\\Local\\Temp\\ipykernel_17076\\3482152911.py\u001B[0m in \u001B[0;36m?\u001B[1;34m()\u001B[0m\n\u001B[0;32m     81\u001B[0m \u001B[1;31m# 4. Quelques méthodes utiles sur les DataFrames\u001B[0m\u001B[1;33m\u001B[0m\u001B[1;33m\u001B[0m\u001B[0m\n\u001B[0;32m     82\u001B[0m \u001B[1;31m# --------------------------------------------------------------\u001B[0m\u001B[1;33m\u001B[0m\u001B[1;33m\u001B[0m\u001B[0m\n\u001B[0;32m     83\u001B[0m \u001B[1;31m# Ajouter une nouvelle ligne avec la méthode append()\u001B[0m\u001B[1;33m\u001B[0m\u001B[1;33m\u001B[0m\u001B[0m\n\u001B[0;32m     84\u001B[0m \u001B[0mnew_student\u001B[0m \u001B[1;33m=\u001B[0m \u001B[0mpd\u001B[0m\u001B[1;33m.\u001B[0m\u001B[0mDataFrame\u001B[0m\u001B[1;33m(\u001B[0m\u001B[1;33m[\u001B[0m\u001B[1;33m[\u001B[0m\u001B[1;34m'Eve'\u001B[0m\u001B[1;33m,\u001B[0m \u001B[1;34m'eve@example.com'\u001B[0m\u001B[1;33m,\u001B[0m \u001B[1;34m'B'\u001B[0m\u001B[1;33m]\u001B[0m\u001B[1;33m]\u001B[0m\u001B[1;33m,\u001B[0m \u001B[0mcolumns\u001B[0m\u001B[1;33m=\u001B[0m\u001B[1;33m[\u001B[0m\u001B[1;34m'Name'\u001B[0m\u001B[1;33m,\u001B[0m \u001B[1;34m'Email'\u001B[0m\u001B[1;33m,\u001B[0m \u001B[1;34m'Section'\u001B[0m\u001B[1;33m]\u001B[0m\u001B[1;33m)\u001B[0m\u001B[1;33m\u001B[0m\u001B[1;33m\u001B[0m\u001B[0m\n\u001B[1;32m---> 85\u001B[1;33m \u001B[0mdf_students\u001B[0m \u001B[1;33m=\u001B[0m \u001B[0mdf_students\u001B[0m\u001B[1;33m.\u001B[0m\u001B[0mappend\u001B[0m\u001B[1;33m(\u001B[0m\u001B[0mnew_student\u001B[0m\u001B[1;33m,\u001B[0m \u001B[0mignore_index\u001B[0m\u001B[1;33m=\u001B[0m\u001B[1;32mTrue\u001B[0m\u001B[1;33m)\u001B[0m\u001B[1;33m\u001B[0m\u001B[1;33m\u001B[0m\u001B[0m\n\u001B[0m\u001B[0;32m     86\u001B[0m \u001B[0mprint\u001B[0m\u001B[1;33m(\u001B[0m\u001B[1;34m\"Ajout d'une nouvelle ligne à la fin du DataFrame :\"\u001B[0m\u001B[1;33m)\u001B[0m\u001B[1;33m\u001B[0m\u001B[1;33m\u001B[0m\u001B[0m\n\u001B[0;32m     87\u001B[0m \u001B[0mprint\u001B[0m\u001B[1;33m(\u001B[0m\u001B[0mdf_students\u001B[0m\u001B[1;33m)\u001B[0m\u001B[1;33m\u001B[0m\u001B[1;33m\u001B[0m\u001B[0m\n\u001B[0;32m     88\u001B[0m \u001B[0mprint\u001B[0m\u001B[1;33m(\u001B[0m\u001B[1;34m\"\\n\"\u001B[0m\u001B[1;33m)\u001B[0m\u001B[1;33m\u001B[0m\u001B[1;33m\u001B[0m\u001B[0m\n",
      "\u001B[1;32m~\\Desktop\\master-isi\\s1\\Machine learning\\tps\\TP1ML\\TP1ML\\venv\\Lib\\site-packages\\pandas\\core\\generic.py\u001B[0m in \u001B[0;36m?\u001B[1;34m(self, name)\u001B[0m\n\u001B[0;32m   6295\u001B[0m             \u001B[1;32mand\u001B[0m \u001B[0mname\u001B[0m \u001B[1;32mnot\u001B[0m \u001B[1;32min\u001B[0m \u001B[0mself\u001B[0m\u001B[1;33m.\u001B[0m\u001B[0m_accessors\u001B[0m\u001B[1;33m\u001B[0m\u001B[1;33m\u001B[0m\u001B[0m\n\u001B[0;32m   6296\u001B[0m             \u001B[1;32mand\u001B[0m \u001B[0mself\u001B[0m\u001B[1;33m.\u001B[0m\u001B[0m_info_axis\u001B[0m\u001B[1;33m.\u001B[0m\u001B[0m_can_hold_identifiers_and_holds_name\u001B[0m\u001B[1;33m(\u001B[0m\u001B[0mname\u001B[0m\u001B[1;33m)\u001B[0m\u001B[1;33m\u001B[0m\u001B[1;33m\u001B[0m\u001B[0m\n\u001B[0;32m   6297\u001B[0m         ):\n\u001B[0;32m   6298\u001B[0m             \u001B[1;32mreturn\u001B[0m \u001B[0mself\u001B[0m\u001B[1;33m[\u001B[0m\u001B[0mname\u001B[0m\u001B[1;33m]\u001B[0m\u001B[1;33m\u001B[0m\u001B[1;33m\u001B[0m\u001B[0m\n\u001B[1;32m-> 6299\u001B[1;33m         \u001B[1;32mreturn\u001B[0m \u001B[0mobject\u001B[0m\u001B[1;33m.\u001B[0m\u001B[0m__getattribute__\u001B[0m\u001B[1;33m(\u001B[0m\u001B[0mself\u001B[0m\u001B[1;33m,\u001B[0m \u001B[0mname\u001B[0m\u001B[1;33m)\u001B[0m\u001B[1;33m\u001B[0m\u001B[1;33m\u001B[0m\u001B[0m\n\u001B[0m",
      "\u001B[1;31mAttributeError\u001B[0m: 'DataFrame' object has no attribute 'append'"
     ]
    }
   ],
   "execution_count": 36
  }
 ],
 "metadata": {
  "kernelspec": {
   "display_name": "venv",
   "language": "python",
   "name": "python3"
  },
  "language_info": {
   "codemirror_mode": {
    "name": "ipython",
    "version": 3
   },
   "file_extension": ".py",
   "mimetype": "text/x-python",
   "name": "python",
   "nbconvert_exporter": "python",
   "pygments_lexer": "ipython3",
   "version": "3.11.0"
  }
 },
 "nbformat": 4,
 "nbformat_minor": 2
}
